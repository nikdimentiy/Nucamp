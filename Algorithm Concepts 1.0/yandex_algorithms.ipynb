{
 "cells": [
  {
   "cell_type": "markdown",
   "id": "1de75f0d-fdc1-4b52-bc98-98fbbc4b9c6f",
   "metadata": {},
   "source": [
    "# Algorithm Concepts and Data Structures\n",
    "\n",
    "## Complexity, Testing, Special Cases 🧠\n",
    "\n",
    "**Algorithm Complexity**: Estimation of the resources (time, memory) required to execute an algorithm depending on the input data size.\n",
    "\n",
    "**Testing**: Checking the correctness of a program with various sets of input data.\n",
    "\n",
    "**Special Cases**: Handling specific cases in algorithms that may require a unique approach.\n",
    "\n",
    "[📺 Watch Video](https://www.youtube.com/watch?v=QLhqYNsPIVo)\n",
    "\n",
    "## Linear Search 🔍\n",
    "\n",
    "A simple algorithm for searching an element in a list by sequentially checking each element from the beginning to the end.\n",
    "\n",
    "[📺 Watch Video](https://www.youtube.com/watch?v=SKwB41FrGgU)\n",
    "\n",
    "## Sets 🗂️\n",
    "\n",
    "A data structure that stores unique elements, allowing quick checks for the presence of an element and adding new elements.\n",
    "\n",
    "[📺 Watch Video](https://www.youtube.com/watch?v=PUpmV2ieIHA)\n",
    "\n",
    "## Dictionaries and Counting Sort 📚\n",
    "\n",
    "**Dictionaries (Hash Tables)**: A data structure that stores key-value pairs, providing quick access to values by key.\n",
    "\n",
    "**Counting Sort**: An efficient sorting algorithm based on counting the occurrences of each element.\n",
    "\n",
    "[📺 Watch Video](https://www.youtube.com/watch?v=Nb5mW1yWVSs)\n",
    "\n",
    "## Prefix Sums and Two Pointers ➕➖\n",
    "\n",
    "**Prefix Sums**: An array where each element represents the sum of elements of the original array up to the current position.\n",
    "\n",
    "**Two Pointers**: A technique for solving problems using two pointers to efficiently process arrays or lists.\n",
    "\n",
    "[📺 Watch Video](https://www.youtube.com/watch?v=de28y8Dcvkg)\n",
    "\n",
    "## Binary Search 🔎\n",
    "\n",
    "An efficient algorithm for searching an element in a sorted array, working in logarithmic time.\n",
    "\n",
    "[📺 Watch Video](https://www.youtube.com/watch?v=YENpZexHfuk)\n",
    "\n",
    "## Event Sorting 📅\n",
    "\n",
    "An approach to problem-solving where events are sorted by time for sequential processing.\n",
    "\n",
    "[📺 Watch Video](https://www.youtube.com/watch?v=hGixDBO-p6Q)\n",
    "\n",
    "## Trees 🌳\n",
    "\n",
    "An abstract data structure representing a hierarchical structure with nodes (vertices) and connections between them (edges).\n",
    "\n",
    "[📺 Watch Video](https://www.youtube.com/watch?v=lEJzqHgyels)\n",
    "\n",
    "---\n",
    "\n",
    "&copy; 2024 NikeySelfProduction\n"
   ]
  },
  {
   "cell_type": "markdown",
   "id": "3aaba9dc-6625-42b3-b460-80e6259e8671",
   "metadata": {},
   "source": [
    "| Time Complexity | Notation    | Example Algorithms                                      |\n",
    "|-----------------|-------------|---------------------------------------------------------|\n",
    "| O(1)            | Constant    | Accessing an element in an array by index               |\n",
    "| O(log n)        | Logarithmic | Binary search                                           |\n",
    "| O(n)            | Linear      | Finding maximum element in an unsorted array            |\n",
    "| O(n log n)      | Linearithmic| Merge Sort, Heap Sort                                   |\n",
    "| O(n^2)          | Quadratic   | Bubble Sort, Selection Sort                             |\n",
    "| O(2^n)          | Exponential | Recursive algorithms with exponential growth            |\n",
    "| O(n!)           | Factorial   | Brute-force solution for traveling salesman problem     |\n"
   ]
  },
  {
   "cell_type": "code",
   "execution_count": null,
   "id": "cf93ab84-1174-4e3d-8dcb-297f04df0635",
   "metadata": {},
   "outputs": [],
   "source": []
  },
  {
   "cell_type": "code",
   "execution_count": null,
   "id": "a154060f-b423-49a1-a799-39da2bf590d5",
   "metadata": {},
   "outputs": [],
   "source": []
  }
 ],
 "metadata": {
  "kernelspec": {
   "display_name": "Python 3 (ipykernel)",
   "language": "python",
   "name": "python3"
  },
  "language_info": {
   "codemirror_mode": {
    "name": "ipython",
    "version": 3
   },
   "file_extension": ".py",
   "mimetype": "text/x-python",
   "name": "python",
   "nbconvert_exporter": "python",
   "pygments_lexer": "ipython3",
   "version": "3.10.12"
  }
 },
 "nbformat": 4,
 "nbformat_minor": 5
}
